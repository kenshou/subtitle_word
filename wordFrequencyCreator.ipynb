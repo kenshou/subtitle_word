{
 "cells": [
  {
   "cell_type": "code",
   "execution_count": 1,
   "metadata": {},
   "outputs": [],
   "source": [
    "import os\n",
    "import re"
   ]
  },
  {
   "cell_type": "code",
   "execution_count": 2,
   "metadata": {},
   "outputs": [],
   "source": [
    "#字幕文件根文件夹\n",
    "root_path='./cs231n/subtitles'\n",
    "write_file_name='./cs231n/word_fre.txt'"
   ]
  },
  {
   "cell_type": "code",
   "execution_count": 3,
   "metadata": {},
   "outputs": [],
   "source": [
    "#srt文件中单词频率统计\n",
    "def word_frequency_cal(file_name,words_fre):\n",
    "    with open(file_name,'r',encoding='UTF-8') as f:\n",
    "        x=f.readlines()\n",
    "    txt=''.join(x)\n",
    "    #每个时间段的字幕以两个换行符分割\n",
    "    srt_lines=txt.split('\\n\\n')\n",
    "#     count=0\n",
    "    for srt in srt_lines:\n",
    "#         count+=1\n",
    "#         if count>10:\n",
    "#             break\n",
    "        #第三行为正式的字幕句子\n",
    "        lines=srt.split('\\n')[2:]\n",
    "        #对每一行字幕的处理\n",
    "        for i in range(len(lines)):\n",
    "            line=lines[i]\n",
    "            #字幕开头行的 - \n",
    "            line=re.sub(r'^- ','',line)\n",
    "            \n",
    "#             #对一句话的首字母小写（有bug，如果是专有名词也会被小写）\n",
    "#             if i==0 and line[0].isupper():\n",
    "#                 if len(line)>1:\n",
    "#                     line = line[0].lower()+line[1:]\n",
    "#                 else:\n",
    "#                     line = line[0].lower()\n",
    "            \n",
    "            ##先全部转换为小写\n",
    "            line = line.lower()\n",
    "#             print(\"句子：\\t\"+line)\n",
    "            for word in line.split(' '):\n",
    "                word=word.replace('...','')\n",
    "                #去标点\n",
    "                word = re.sub(r'[\\\\.,\\\\?]$','',word)\n",
    "                #去掉引号\n",
    "                word =re.sub(r'^[\"\\'%+\\\\(\\\\[\\\\]','',word)\n",
    "                #空or只有一个字母跳过\n",
    "                if len(word)<2:\n",
    "                    continue\n",
    "                #如果首字符不是字母直接跳过\n",
    "                if not word[0].isalpha():\n",
    "                    continue\n",
    "                #****最后（只能放最后）***如果末尾字符不是字母跳过\n",
    "                if not word[len(word)-1].isalpha():\n",
    "                    continue\n",
    "#                 print(word)\n",
    "                fre=words_fre.get(word,0)\n",
    "                words_fre[word]=fre+1\n",
    "                \n",
    "                \n",
    "#     print(words_fre)\n",
    "    return words_fre"
   ]
  },
  {
   "cell_type": "code",
   "execution_count": 4,
   "metadata": {},
   "outputs": [],
   "source": [
    "words_fre={}\n",
    "for f in os.listdir(root_path):\n",
    "    if f.endswith('.srt'):\n",
    "        words_fre=word_frequency_cal(root_path+'/'+f,words_fre)\n",
    "#         break\n"
   ]
  },
  {
   "cell_type": "code",
   "execution_count": 5,
   "metadata": {},
   "outputs": [],
   "source": [
    "#按照频率排序\n",
    "words_sorted=sorted(words_fre.items(), key=lambda d: -d[1])\n",
    "# words_sorted"
   ]
  },
  {
   "cell_type": "code",
   "execution_count": 6,
   "metadata": {},
   "outputs": [],
   "source": [
    "with open(write_file_name,'w') as f:\n",
    "    for ws in words_sorted:\n",
    "        f.write(ws[0]+'\\n')"
   ]
  }
 ],
 "metadata": {
  "kernelspec": {
   "display_name": "Python 3",
   "language": "python",
   "name": "python3"
  },
  "language_info": {
   "codemirror_mode": {
    "name": "ipython",
    "version": 3
   },
   "file_extension": ".py",
   "mimetype": "text/x-python",
   "name": "python",
   "nbconvert_exporter": "python",
   "pygments_lexer": "ipython3",
   "version": "3.7.0"
  }
 },
 "nbformat": 4,
 "nbformat_minor": 2
}
