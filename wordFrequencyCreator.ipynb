{
 "cells": [
  {
   "cell_type": "code",
   "execution_count": 1,
   "metadata": {},
   "outputs": [],
   "source": [
    "import os\n",
    "import re"
   ]
  },
  {
   "cell_type": "code",
   "execution_count": 2,
   "metadata": {},
   "outputs": [],
   "source": [
    "#字幕文件根文件夹\n",
    "root_path='./cs231n/subtitles'"
   ]
  },
  {
   "cell_type": "code",
   "execution_count": 3,
   "metadata": {},
   "outputs": [],
   "source": [
    "#srt文件中单词频率统计\n",
    "def word_frequency_cal(file_name,words_fre):\n",
    "    with open(file_name,'r',encoding='UTF-8') as f:\n",
    "        x=f.readlines()\n",
    "    txt=''.join(x)\n",
    "    #每个时间段的字幕以两个换行符分割\n",
    "    srt_lines=txt.split('\\n\\n')\n",
    "    count=0\n",
    "    for srt in srt_lines:\n",
    "        count+=1\n",
    "        if count>10:\n",
    "            break\n",
    "        #第三行为正式的字幕句子\n",
    "        lines=srt.split('\\n')[2:]\n",
    "        #对每一行字幕的处理\n",
    "        for i in range(len(lines)):\n",
    "            line=lines[i]\n",
    "            #对一句话的首字母小写（有bug，如果是专有名词也会被小写）\n",
    "            if i==0 and line[0].isupper():\n",
    "                if len(line)>1:\n",
    "                    line = line[0].lower()+line[1:]\n",
    "                else:\n",
    "                    line = line[0].lower()\n",
    "            print(\"句子：\\t\"+line)\n",
    "            for word in line.split(' '):\n",
    "                #去标点\n",
    "                word = re.sub(r'[.,!\\\\?]$','',word)\n",
    "                #如果是数字直接跳过\n",
    "                if word.isnumeric():\n",
    "                    continue\n",
    "#                 print(word)\n",
    "                fre=words_fre.get(word,0)\n",
    "                words_fre[word]=fre+1\n",
    "                \n",
    "                \n",
    "    print(words_fre)\n",
    "    return words_fre"
   ]
  },
  {
   "cell_type": "code",
   "execution_count": 4,
   "metadata": {},
   "outputs": [
    {
     "name": "stdout",
     "output_type": "stream",
     "text": [
      "句子：\t- So welcome everyone to CS231n.\n",
      "句子：\ti'm super excited to\n",
      "句子：\toffer this class again\n",
      "句子：\tfor the third time.\n",
      "句子：\tit seems that every\n",
      "句子：\ttime we offer this class\n",
      "句子：\tit's growing exponentially\n",
      "句子：\tunlike most things in the world.\n",
      "句子：\tthis is the third time\n",
      "句子：\twe're teaching this class.\n",
      "句子：\tthe first time we had 150 students.\n",
      "句子：\tlast year, we had 350\n",
      "句子：\tstudents, so it doubled.\n",
      "句子：\tthis year we've doubled\n",
      "句子：\tagain to about 730 students\n",
      "句子：\twhen I checked this morning.\n",
      "{'-': 1, 'So': 1, 'welcome': 1, 'everyone': 1, 'to': 3, 'CS231n': 1, \"i'm\": 1, 'super': 1, 'excited': 1, 'offer': 2, 'this': 6, 'class': 3, 'again': 2, 'for': 1, 'the': 4, 'third': 2, 'time': 4, 'it': 2, 'seems': 1, 'that': 1, 'every': 1, 'we': 3, \"it's\": 1, 'growing': 1, 'exponentially': 1, 'unlike': 1, 'most': 1, 'things': 1, 'in': 1, 'world': 1, 'is': 1, \"we're\": 1, 'teaching': 1, 'first': 1, 'had': 2, 'students': 3, 'last': 1, 'year': 2, 'so': 1, 'doubled': 2, \"we've\": 1, 'about': 1, 'when': 1, 'I': 1, 'checked': 1, 'morning': 1}\n"
     ]
    }
   ],
   "source": [
    "words_fre={}\n",
    "for f in os.listdir(root_path):\n",
    "    if f.endswith('.srt'):\n",
    "        words_fre=word_frequency_cal(root_path+'/'+f,words_fre)\n",
    "        break"
   ]
  }
 ],
 "metadata": {
  "kernelspec": {
   "display_name": "Python 3",
   "language": "python",
   "name": "python3"
  },
  "language_info": {
   "codemirror_mode": {
    "name": "ipython",
    "version": 3
   },
   "file_extension": ".py",
   "mimetype": "text/x-python",
   "name": "python",
   "nbconvert_exporter": "python",
   "pygments_lexer": "ipython3",
   "version": "3.6.5"
  }
 },
 "nbformat": 4,
 "nbformat_minor": 2
}
